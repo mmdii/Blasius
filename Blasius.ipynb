{
 "cells": [
  {
   "cell_type": "code",
   "execution_count": 49,
   "id": "93495ca7-5fc9-4a96-a2a1-c935caa1ac76",
   "metadata": {},
   "outputs": [],
   "source": [
    "import torch\n",
    "import torch.nn as nn\n",
    "import numpy as np\n",
    "from torch.utils.data import TensorDataset\n",
    "from torch.utils.data import DataLoader\n",
    "import matplotlib.pyplot as plt\n",
    "import warnings\n",
    "import os\n",
    "os.environ[\"KMP_DUPLICATE_LIB_OK\"]=\"TRUE\"\n",
    "warnings.filterwarnings(\"ignore\")\n",
    "torch.set_printoptions(precision=20, threshold=None, edgeitems=None, linewidth=None, profile=None, sci_mode=None)\n"
   ]
  },
  {
   "cell_type": "code",
   "execution_count": 50,
   "id": "2ed2a219-4a73-4d57-b561-42d7ea197b04",
   "metadata": {},
   "outputs": [],
   "source": [
    "x_train = torch.tensor([0.0,1.0,2.0,3.0,4.0,5.0,6.0,7.0,8.0], dtype=torch.float, requires_grad=True)\n",
    "x_train=x_train.reshape(-1,1)\n",
    "y_train_DrParand= torch.tensor([[0.000000000000,0.165571725847,0.650024370165,1.396808231342,2.305746419194,3.283273666139,4.279620923737,5.279238812489,6.279213433045]], dtype=torch.float,requires_grad=True)\n",
    "\n",
    "y_train=y_train_DrParand\n",
    "y_train=y_train.reshape(-1,1)\n",
    "train_ds = TensorDataset(x_train, y_train)\n",
    "train_dl = DataLoader(train_ds, batch_size=3, shuffle=True,drop_last=True)"
   ]
  },
  {
   "cell_type": "code",
   "execution_count": 51,
   "id": "9a9c9a20-25e8-45f8-b2ec-90cca7593d5d",
   "metadata": {},
   "outputs": [],
   "source": [
    "class CustomActivationLayer(nn.Module):\n",
    "    def __init__(self, input_size, output_size,L):\n",
    "        super(CustomActivationLayer, self).__init__()\n",
    "        self.L=L\n",
    "\n",
    "        # Ensure the output size matches the number of custom functions\n",
    "        assert output_size == 9, \"This example requires exactly 3 output nodes.\"\n",
    "\n",
    "    def forward(self, x):\n",
    "        # Get the linear output\n",
    "        linear_out = x\n",
    "        L=self.L\n",
    "        activated_out = torch.stack([\n",
    "            linear_out[:,0]*0+1.0,\n",
    "            (linear_out[:,1]-L)/(linear_out[:,1]+L),\n",
    "            1.5*((linear_out[:,2]-L)/(linear_out[:,2]+L))**2-1.5,\n",
    "            2.5*((linear_out[:,3]-L)/(linear_out[:,3]+L))**3-1.5*((linear_out[:,3]-L)/(linear_out[:,3]+L)),\n",
    "            4.375*((linear_out[:,4]-L)/(linear_out[:,4]+L))**4-3.75*((linear_out[:,4]-L)/(linear_out[:,4]+L))**2+0.375,\n",
    "            7.875*((linear_out[:,5]-L)/(linear_out[:,5]+L))**5-8.75*((linear_out[:,5]-L)/(linear_out[:,5]+L))**3+1.875**((linear_out[:,5]-L)/(linear_out[:,5]+L)),\n",
    "            14.4375*((linear_out[:,6]-L)/(linear_out[:,6]+L))**6-19.6875*((linear_out[:,6]-L)/(linear_out[:,6]+L))**4 +6.5625*((linear_out[:,6]-L)/(linear_out[:,6]+L))**2 - 0.3125,\n",
    "            26.8125*((linear_out[:,7]-L)/(linear_out[:,7]+L))**7-43.3125*((linear_out[:,7]-L)/(linear_out[:,7]+L))**5 +19.6875*((linear_out[:,7]-L)/(linear_out[:,7]+L))**3 -2.1875*((linear_out[:,7]-L)/(linear_out[:,7]+L)),\n",
    "            50.2734375*((linear_out[:,8]-L)/(linear_out[:,8]+L))**8-93.84375*((linear_out[:,8]-L)/(linear_out[:,8]+L))**6+54.140625*((linear_out[:,8]-L)/(linear_out[:,8]+L))**4-9.84375*((linear_out[:,8]-L)/(linear_out[:,8]+L))**2 +0.2734375,\n",
    "            #94.9609375*((linear_out[:,9]-L)/(linear_out[:,9]+L))**9-201.09375*((linear_out[:,9]-L)/(linear_out[:,9]+L))**7+140.765625*((linear_out[:,9]-L)/(linear_out[:,9]+L))**5-36.09375*((linear_out[:,9]-L)/(linear_out[:,9]+L))**3+2.4609375*((linear_out[:,9]-L)/(linear_out[:,9]+L)),\n",
    "            #180.42578125*((linear_out[:,10]-L)/(linear_out[:,10]+L))**10-427.32421875*((linear_out[:,10]-L)/(linear_out[:,10]+L))**8+351.9140625*((linear_out[:,10]-L)/(linear_out[:,10]+L))**6-117.3046875*((linear_out[:,10]-L)/(linear_out[:,10]+L))**4+13.53515625*((linear_out[:,10]-L)/(linear_out[:,10]+L))**2-0.2460937500000\n",
    "        ], dim=1)\n",
    "        return activated_out\n"
   ]
  },
  {
   "cell_type": "code",
   "execution_count": 52,
   "id": "78e95c77-c3ca-4b8c-89a4-991d90bd1492",
   "metadata": {},
   "outputs": [],
   "source": [
    "class MyModule(nn.Module):\n",
    "    def __init__(self):\n",
    "        super().__init__()\n",
    "        self.l1 = nn.Linear(1, 9, bias=False)\n",
    "        self.a1 = nn.Tanh()\n",
    "        self.l2 = nn.Linear(9, 9, bias=False)\n",
    "        self.a2 = nn.Tanh()\n",
    "        self.a3 = CustomActivationLayer(9, 9, 2.0)\n",
    "        self.l3 = nn.Linear(9, 1, bias=False)\n",
    "\n",
    "    def forward(self, x):\n",
    "        x=self.l1(x)\n",
    "        x=self.a1(x)\n",
    "        x=self.l2(x)\n",
    "        x=self.a2(x)\n",
    "        x=self.a3(x)\n",
    "        x=self.l3(x)\n",
    "        return x+1.0\n",
    "model=MyModule()\n",
    "\n"
   ]
  },
  {
   "cell_type": "code",
   "execution_count": 53,
   "id": "1a8aca12-9aff-4e17-ab88-1b98c9e815c5",
   "metadata": {},
   "outputs": [
    {
     "name": "stdout",
     "output_type": "stream",
     "text": [
      "Epoch 0  Loss 2712.66655815972217169474\n",
      "Epoch 1000  Loss 0.21270329753557840058\n",
      "Epoch 2000  Loss 0.04233723175194528676\n",
      "Epoch 3000  Loss 0.07236784613794750021\n",
      "Epoch 4000  Loss 0.07107575651672151662\n",
      "Epoch 5000  Loss 0.09654292774697144364\n",
      "Epoch 6000  Loss 0.04409087200959523750\n",
      "Epoch 7000  Loss 0.17033762919406095215\n",
      "Epoch 8000  Loss 0.05159736528164810682\n",
      "Epoch 9000  Loss 0.01504682666725582624\n",
      "Epoch 10000  Loss 0.02381299560268719875\n",
      "Epoch 11000  Loss 0.01343442178848716986\n",
      "Epoch 12000  Loss 0.02904755166835255170\n",
      "Epoch 13000  Loss 0.03097505939917431783\n",
      "Epoch 14000  Loss 0.07860753022962146952\n",
      "Epoch 15000  Loss 0.07531202708681423996\n",
      "Epoch 16000  Loss 0.14321439133750069050\n",
      "Epoch 17000  Loss 0.06244022233618630457\n",
      "Epoch 18000  Loss 0.04770495825343661761\n",
      "Epoch 19000  Loss 0.04560981856452094030\n"
     ]
    }
   ],
   "source": [
    "num_epochs=20000\n",
    "loss_fn = nn.MSELoss(reduction='mean')\n",
    "optimizer = torch.optim.SGD(model.parameters(), lr=0.001)\n",
    "\n",
    "for epoch in range(num_epochs):\n",
    "    mysum=0.0\n",
    "    for x_batch, y_batch in train_dl:\n",
    "        pred = model(x_batch)\n",
    "        loss = loss_fn(pred, y_batch)\n",
    "        loss.backward()\n",
    "        nn.utils.clip_grad_value_(model.parameters(), clip_value=1.0)\n",
    "        optimizer.step()\n",
    "        optimizer.zero_grad()\n",
    "        mysum=mysum+loss.item()\n",
    "    if epoch % 1000 ==0:\n",
    "        print(f'Epoch {epoch}  Loss {mysum/y_train.shape[0]:.20f}')\n",
    "    if mysum/y_train.shape[0]< 0.0005:\n",
    "        break\n"
   ]
  },
  {
   "cell_type": "code",
   "execution_count": 54,
   "id": "56a93c7f-8344-431d-add0-bac567e7d886",
   "metadata": {},
   "outputs": [
    {
     "name": "stdout",
     "output_type": "stream",
     "text": [
      "Mean Absolute Error 0.2648076117038727\n"
     ]
    },
    {
     "data": {
      "image/png": "[encoded data removed]",
      "text/plain": [
       "<Figure size 640x480 with 1 Axes>"
      ]
     },
     "metadata": {},
     "output_type": "display_data"
    }
   ],
   "source": [
    "y_pred = model(x_train)\n",
    "MAE=torch.abs(y_train-y_pred).mean()\n",
    "print('Mean Absolute Error',MAE.item())\n",
    "y_pred = y_pred.detach().numpy()\n",
    "plt.plot(x_train.detach().numpy(), y_pred)\n",
    "plt.scatter(x_train.detach().numpy(),y_train.detach().numpy(),c='red')\n",
    "plt.show()\n"
   ]
  },
  {
   "cell_type": "code",
   "execution_count": 55,
   "id": "eb10492c-6b46-48f8-9c9f-15f14c65764a",
   "metadata": {},
   "outputs": [],
   "source": [
    "x=torch.linspace(0,10,100,requires_grad=True)\n",
    "x=x.reshape(-1,1)"
   ]
  },
  {
   "cell_type": "code",
   "execution_count": 56,
   "id": "16d3e063-925b-4150-983e-37dcc2694300",
   "metadata": {},
   "outputs": [],
   "source": [
    "model=MyModule()\n"
   ]
  },
  {
   "cell_type": "code",
   "execution_count": 57,
   "id": "e954e842-dade-4faa-8714-b36a815d7ddc",
   "metadata": {},
   "outputs": [],
   "source": [
    "def dy_dx(y, x):\n",
    "    return torch.autograd.grad(\n",
    "        y, x, grad_outputs=torch.ones_like(y), create_graph=True,allow_unused=True\n",
    "    )[0]\n"
   ]
  },
  {
   "cell_type": "code",
   "execution_count": 58,
   "id": "bd895006-961b-4d9c-8f8f-c6b2390b1d1f",
   "metadata": {},
   "outputs": [],
   "source": [
    "optimizer = torch.optim.Adam(model.parameters(), lr=.01)\n"
   ]
  },
  {
   "cell_type": "code",
   "execution_count": 62,
   "id": "341ea2f8-737a-4b02-9679-7fe36c627fb9",
   "metadata": {},
   "outputs": [
    {
     "name": "stdout",
     "output_type": "stream",
     "text": [
      "Epoch= 0  ,Loss= 12.751281\n",
      "Epoch= 1000  ,Loss= 11.318814\n",
      "Epoch= 2000  ,Loss= 10.398304\n",
      "Epoch= 3000  ,Loss= 9.985626\n",
      "Epoch= 4000  ,Loss= 9.863499\n",
      "Epoch= 5000  ,Loss= 9.833488\n",
      "Epoch= 6000  ,Loss= 9.820895\n",
      "Epoch= 7000  ,Loss= 9.813649\n",
      "Epoch= 8000  ,Loss= 9.796843\n",
      "Epoch= 9000  ,Loss= 5.4932775\n",
      "Epoch= 10000  ,Loss= 8.120285\n",
      "Epoch= 11000  ,Loss= 0.11156477\n",
      "Epoch= 12000  ,Loss= 0.03198232\n",
      "Epoch= 13000  ,Loss= 0.020248733\n",
      "Epoch= 14000  ,Loss= 0.100077234\n",
      "Epoch= 15000  ,Loss= 0.013107701\n"
     ]
    }
   ],
   "source": [
    "losses=[]\n",
    "n_epochs=20000\n",
    "\n",
    "for i in range(n_epochs):\n",
    "    y=model(x)\n",
    "    y_p = dy_dx(y, x)\n",
    "    y_pp = dy_dx(y_p, x)\n",
    "    y_ppp = dy_dx(y_pp, x)\n",
    "\n",
    "    residential = y_ppp+0.5*y*y_pp\n",
    "    initial1 = y[0] - 0\n",
    "    initial2 = y_p[0] - 0\n",
    "    initial3 = y_p[-1]-.99\n",
    "\n",
    "    loss = 10*initial3**2+1000*(residential**2).mean() + initial1**2 + initial2**2\n",
    "    if loss.item() < 0.010:\n",
    "        break\n",
    "\n",
    "    optimizer.zero_grad()\n",
    "    loss.backward()\n",
    "    optimizer.step()\n",
    "\n",
    "    losses.append(loss.detach().numpy())\n",
    "\n",
    "    if i % 1000 == 0:\n",
    "        print('Epoch=',i,' ,Loss=',loss.detach().numpy()[0])\n",
    "\n"
   ]
  },
  {
   "cell_type": "code",
   "execution_count": 63,
   "id": "2203e4f1-233c-477c-8630-35cf22717f28",
   "metadata": {},
   "outputs": [
    {
     "name": "stdout",
     "output_type": "stream",
     "text": [
      "tensor([0.98747539520263671875], grad_fn=<SelectBackward0>)\n"
     ]
    }
   ],
   "source": [
    "print(y_p[-1])\n"
   ]
  },
  {
   "cell_type": "code",
   "execution_count": 64,
   "id": "f4c6c951-14e7-4550-9184-4a73462da60a",
   "metadata": {},
   "outputs": [
    {
     "name": "stdout",
     "output_type": "stream",
     "text": [
      "y_pp(0)= 0.3327368199825287\n",
      "Mean Residual= -0.9553216099739075\n"
     ]
    }
   ],
   "source": [
    "def eval_residual(x):\n",
    "    y=model(x)\n",
    "    y_p = dy_dx(y, x)\n",
    "    y_pp = dy_dx(y_p, x)\n",
    "    y_ppp = dy_dx(y_pp, x)\n",
    "\n",
    "    print('y_pp(0)=',y_pp[0].item())\n",
    "    # modify the equation to match the one you sent\n",
    "    residential = y_ppp+0.5*y*y_pp\n",
    "    initial1 = y[0] - 1\n",
    "    initial2 = y_p[0] - 0\n",
    "    initial3 = y_p[-1]-.990\n",
    "    return (residential**2).mean() + initial1 + initial2+ initial3\n",
    "res=eval_residual(x)\n",
    "y_pred=model(x)\n",
    "\n",
    "print('Mean Residual=',res.item())\n"
   ]
  },
  {
   "cell_type": "code",
   "execution_count": 65,
   "id": "04d95532-128a-4905-8854-ee06f0a71878",
   "metadata": {},
   "outputs": [
    {
     "name": "stdout",
     "output_type": "stream",
     "text": [
      "Mean Absolute Error Between Dr Parand results and the presented model: 0.0549532026052475\n"
     ]
    },
    {
     "data": {
      "image/png": "[encoded data removed]",
      "text/plain": [
       "<Figure size 640x480 with 1 Axes>"
      ]
     },
     "metadata": {},
     "output_type": "display_data"
    }
   ],
   "source": [
    "x= torch.tensor([0.0,1.0,2.0,3.0,4.0,5.0,6.0,7.0,8.0], dtype=torch.float, requires_grad=True)\n",
    "x=x.reshape(-1,1)\n",
    "y_pred = model(x)\n",
    "MAE=torch.abs(y_train-y_pred).mean()\n",
    "print('Mean Absolute Error Between Dr Parand results and the presented model:',MAE.item())\n",
    "y_pred = y_pred.detach().numpy()\n",
    "plt.plot(x_train.detach().numpy(), y_pred)\n",
    "plt.scatter(x_train.detach().numpy(),y_train.detach().numpy(),c='red')\n",
    "plt.show()\n"
   ]
  },
  {
   "cell_type": "code",
   "execution_count": null,
   "id": "ec69d423-1298-478c-a5f3-3aa01d6f0168",
   "metadata": {},
   "outputs": [],
   "source": []
  }
 ],
 "metadata": {
  "kernelspec": {
   "display_name": "Python 3 (ipykernel)",
   "language": "python",
   "name": "python3"
  },
  "language_info": {
   "codemirror_mode": {
    "name": "ipython",
    "version": 3
   },
   "file_extension": ".py",
   "mimetype": "text/x-python",
   "name": "python",
   "nbconvert_exporter": "python",
   "pygments_lexer": "ipython3",
   "version": "3.12.3"
  }
 },
 "nbformat": 4,
 "nbformat_minor": 5
}
