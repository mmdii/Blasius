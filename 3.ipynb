{
  "nbformat": 4,
  "nbformat_minor": 0,
  "metadata": {
    "colab": {
      "provenance": []
    },
    "kernelspec": {
      "name": "python3",
      "display_name": "Python 3"
    },
    "language_info": {
      "name": "python"
    }
  },
  "cells": [
    {
      "cell_type": "code",
      "execution_count": 2,
      "metadata": {
        "id": "28GtL5_ay7x8"
      },
      "outputs": [],
      "source": [
        "import torch\n",
        "import torch.nn as nn\n",
        "import numpy as np\n",
        "from torch.utils.data import TensorDataset\n",
        "from torch.utils.data import DataLoader\n",
        "import matplotlib.pyplot as plt\n",
        "import warnings\n",
        "import os\n",
        "os.environ[\"KMP_DUPLICATE_LIB_OK\"]=\"TRUE\"\n",
        "warnings.filterwarnings(\"ignore\")\n",
        "torch.set_printoptions(precision=20, threshold=None, edgeitems=None, linewidth=None, profile=None, sci_mode=None)"
      ]
    },
    {
      "cell_type": "code",
      "source": [
        "x_train = torch.tensor([0.0,1.0,2.0,3.0,4.0,5.0,6.0,7.0,8.0], dtype=torch.float, requires_grad=True)\n",
        "x_train=x_train.reshape(-1,1)\n",
        "y_train_DrParand= torch.tensor([[0.000000000000,0.165571725847,0.650024370165,1.396808231342,2.305746419194,3.283273666139,4.279620923737,5.279238812489,6.279213433045]], dtype=torch.float,requires_grad=True)\n",
        "\n",
        "y_train=y_train_DrParand\n",
        "y_train=y_train.reshape(-1,1)\n",
        "train_ds = TensorDataset(x_train, y_train)\n",
        "train_dl = DataLoader(train_ds, batch_size=3, shuffle=True,drop_last=True)"
      ],
      "metadata": {
        "id": "mWfPA6TRzdgM"
      },
      "execution_count": 3,
      "outputs": []
    },
    {
      "cell_type": "code",
      "source": [
        "class CustomActivationLayer(nn.Module):\n",
        "    def __init__(self, input_size, output_size,L):\n",
        "        super(CustomActivationLayer, self).__init__()\n",
        "        self.L=L\n",
        "\n",
        "        # Ensure the output size matches the number of custom functions\n",
        "        assert output_size == 9, \"This example requires exactly 3 output nodes.\"\n",
        "\n",
        "    def forward(self, x):\n",
        "        # Get the linear output\n",
        "        linear_out = x\n",
        "        L=self.L\n",
        "        activated_out = torch.stack([\n",
        "            linear_out[:,0]*0+1.0,\n",
        "            (linear_out[:,1]-L)/(linear_out[:,1]+L),\n",
        "            1.5*((linear_out[:,2]-L)/(linear_out[:,2]+L))**2-1.5,\n",
        "            2.5*((linear_out[:,3]-L)/(linear_out[:,3]+L))**3-1.5*((linear_out[:,3]-L)/(linear_out[:,3]+L)),\n",
        "            4.375*((linear_out[:,4]-L)/(linear_out[:,4]+L))**4-3.75*((linear_out[:,4]-L)/(linear_out[:,4]+L))**2+0.375,\n",
        "            7.875*((linear_out[:,5]-L)/(linear_out[:,5]+L))**5-8.75*((linear_out[:,5]-L)/(linear_out[:,5]+L))**3+1.875**((linear_out[:,5]-L)/(linear_out[:,5]+L)),\n",
        "            14.4375*((linear_out[:,6]-L)/(linear_out[:,6]+L))**6-19.6875*((linear_out[:,6]-L)/(linear_out[:,6]+L))**4 +6.5625*((linear_out[:,6]-L)/(linear_out[:,6]+L))**2 - 0.3125,\n",
        "            26.8125*((linear_out[:,7]-L)/(linear_out[:,7]+L))**7-43.3125*((linear_out[:,7]-L)/(linear_out[:,7]+L))**5 +19.6875*((linear_out[:,7]-L)/(linear_out[:,7]+L))**3 -2.1875*((linear_out[:,7]-L)/(linear_out[:,7]+L)),\n",
        "            50.2734375*((linear_out[:,8]-L)/(linear_out[:,8]+L))**8-93.84375*((linear_out[:,8]-L)/(linear_out[:,8]+L))**6+54.140625*((linear_out[:,8]-L)/(linear_out[:,8]+L))**4-9.84375*((linear_out[:,8]-L)/(linear_out[:,8]+L))**2 +0.2734375,\n",
        "            #94.9609375*((linear_out[:,9]-L)/(linear_out[:,9]+L))**9-201.09375*((linear_out[:,9]-L)/(linear_out[:,9]+L))**7+140.765625*((linear_out[:,9]-L)/(linear_out[:,9]+L))**5-36.09375*((linear_out[:,9]-L)/(linear_out[:,9]+L))**3+2.4609375*((linear_out[:,9]-L)/(linear_out[:,9]+L)),\n",
        "            #180.42578125*((linear_out[:,10]-L)/(linear_out[:,10]+L))**10-427.32421875*((linear_out[:,10]-L)/(linear_out[:,10]+L))**8+351.9140625*((linear_out[:,10]-L)/(linear_out[:,10]+L))**6-117.3046875*((linear_out[:,10]-L)/(linear_out[:,10]+L))**4+13.53515625*((linear_out[:,10]-L)/(linear_out[:,10]+L))**2-0.2460937500000\n",
        "        ], dim=1)\n",
        "        return activated_out"
      ],
      "metadata": {
        "id": "wyHCLCu4zl-C"
      },
      "execution_count": 4,
      "outputs": []
    },
    {
      "cell_type": "code",
      "source": [
        "class MyModule(nn.Module):\n",
        "    def __init__(self):\n",
        "        super().__init__()\n",
        "        self.l1 = nn.Linear(1, 9, bias=False)\n",
        "        self.a1 = nn.Tanh()\n",
        "        self.l2 = nn.Linear(9, 9, bias=False)\n",
        "        self.a2 = nn.Tanh()\n",
        "        self.a3 = CustomActivationLayer(9, 9, 2.0)\n",
        "        self.l3 = nn.Linear(9, 1, bias=False)\n",
        "\n",
        "    def forward(self, x):\n",
        "        x=self.l1(x)\n",
        "        x=self.a1(x)\n",
        "        x=self.l2(x)\n",
        "        x=self.a2(x)\n",
        "        x=self.a3(x)\n",
        "        x=self.l3(x)\n",
        "        return x+1.0\n",
        "model=MyModule()"
      ],
      "metadata": {
        "id": "l7CEvMwAzohM"
      },
      "execution_count": 5,
      "outputs": []
    },
    {
      "cell_type": "code",
      "source": [
        "num_epochs=20000\n",
        "loss_fn = nn.MSELoss(reduction='mean')\n",
        "optimizer = torch.optim.SGD(model.parameters(), lr=0.001)\n",
        "\n",
        "for epoch in range(num_epochs):\n",
        "    mysum=0.0\n",
        "    for x_batch, y_batch in train_dl:\n",
        "        pred = model(x_batch)\n",
        "        loss = loss_fn(pred, y_batch)\n",
        "        loss.backward()\n",
        "        nn.utils.clip_grad_value_(model.parameters(), clip_value=1.0)\n",
        "        optimizer.step()\n",
        "        optimizer.zero_grad()\n",
        "        mysum=mysum+loss.item()\n",
        "    if epoch % 1000 ==0:\n",
        "        print(f'Epoch {epoch}  Loss {mysum/y_train.shape[0]:.20f}')\n",
        "    if mysum/y_train.shape[0]< 0.0005:\n",
        "        break"
      ],
      "metadata": {
        "colab": {
          "base_uri": "https://localhost:8080/"
        },
        "id": "rZO9ofuNzrBC",
        "outputId": "a272a4fb-5b13-4701-cc0b-0e321b1deecf"
      },
      "execution_count": 6,
      "outputs": [
        {
          "output_type": "stream",
          "name": "stdout",
          "text": [
            "Epoch 0  Loss 5.06888347201877209613\n",
            "Epoch 1000  Loss 0.03312329513331254555\n",
            "Epoch 2000  Loss 0.02616566026376353216\n",
            "Epoch 3000  Loss 0.02300500207477145648\n",
            "Epoch 4000  Loss 0.02802470119463072729\n",
            "Epoch 5000  Loss 0.03736346142573489237\n",
            "Epoch 6000  Loss 0.01499158744182851541\n",
            "Epoch 7000  Loss 0.02856320432490772748\n",
            "Epoch 8000  Loss 0.03239250514242383860\n",
            "Epoch 9000  Loss 0.01393540762364864349\n",
            "Epoch 10000  Loss 0.02142526913020345938\n",
            "Epoch 11000  Loss 0.04566995235573914624\n",
            "Epoch 12000  Loss 0.02890591447552045071\n",
            "Epoch 13000  Loss 0.02721148936284913111\n",
            "Epoch 14000  Loss 0.02937062198503150035\n",
            "Epoch 15000  Loss 0.02320416002637810254\n",
            "Epoch 16000  Loss 0.02473911606810159231\n",
            "Epoch 17000  Loss 0.02256669073055187977\n",
            "Epoch 18000  Loss 0.02071114050017462682\n",
            "Epoch 19000  Loss 0.01475549427171548265\n"
          ]
        }
      ]
    },
    {
      "cell_type": "code",
      "source": [
        "y_pred = model(x_train)\n",
        "MAE=torch.abs(y_train-y_pred).mean()\n",
        "print('Mean Absolute Error',MAE.item())\n",
        "y_pred = y_pred.detach().numpy()\n",
        "plt.plot(x_train.detach().numpy(), y_pred)\n",
        "plt.scatter(x_train.detach().numpy(),y_train.detach().numpy(),c='red')\n",
        "plt.show()"
      ],
      "metadata": {
        "colab": {
          "base_uri": "https://localhost:8080/",
          "height": 447
        },
        "id": "JJ-esRK3z96A",
        "outputId": "51691a62-6979-44a9-9493-fbf22dcad78b"
      },
      "execution_count": 7,
      "outputs": [
        {
          "output_type": "stream",
          "name": "stdout",
          "text": [
            "Mean Absolute Error 0.12428144365549088\n"
          ]
        },
        {
          "output_type": "display_data",
          "data": {
            "text/plain": [
              "<Figure size 640x480 with 1 Axes>"
            ],
            "image/png": "[encoded data removed]"
          },
          "metadata": {}
        }
      ]
    },
    {
      "cell_type": "code",
      "source": [
        "x=torch.linspace(0,10,100,requires_grad=True)\n",
        "x=x.reshape(-1,1)"
      ],
      "metadata": {
        "id": "PDNn0uNu0HMP"
      },
      "execution_count": 8,
      "outputs": []
    },
    {
      "cell_type": "code",
      "source": [
        "model=MyModule()"
      ],
      "metadata": {
        "id": "R-1VFG-80JRU"
      },
      "execution_count": 9,
      "outputs": []
    },
    {
      "cell_type": "code",
      "source": [
        "def dy_dx(y, x):\n",
        "    return torch.autograd.grad(\n",
        "        y, x, grad_outputs=torch.ones_like(y), create_graph=True,allow_unused=True\n",
        "    )[0]"
      ],
      "metadata": {
        "id": "2FbfA2P90KzA"
      },
      "execution_count": 10,
      "outputs": []
    },
    {
      "cell_type": "code",
      "source": [
        "optimizer = torch.optim.Adam(model.parameters(), lr=.01)\n"
      ],
      "metadata": {
        "id": "vglAKToc0NMt"
      },
      "execution_count": 11,
      "outputs": []
    },
    {
      "cell_type": "code",
      "source": [
        "losses=[]\n",
        "n_epochs=25000\n",
        "\n",
        "for i in range(n_epochs):\n",
        "    y=model(x)\n",
        "    y_p = dy_dx(y, x)\n",
        "    y_pp = dy_dx(y_p, x)\n",
        "    y_ppp = dy_dx(y_pp, x)\n",
        "\n",
        "    residential = y_ppp+0.5*y*y_pp\n",
        "    initial1 = y[0] - 0\n",
        "    initial2 = y_p[0] - 0\n",
        "    initial3 = y_p[-1]-.99\n",
        "\n",
        "    loss = 10*initial3**2+1000*(residential**2).mean() + initial1**2 + initial2**2\n",
        "    if loss.item() < 0.010:\n",
        "        break\n",
        "\n",
        "    optimizer.zero_grad()\n",
        "    loss.backward()\n",
        "    optimizer.step()\n",
        "\n",
        "    losses.append(loss.detach().numpy())\n",
        "\n",
        "    if i % 1000 == 0:\n",
        "        print('Epoch=',i,' ,Loss=',loss.detach().numpy()[0])"
      ],
      "metadata": {
        "colab": {
          "base_uri": "https://localhost:8080/"
        },
        "id": "yiQ9w8pA0PQc",
        "outputId": "c9022946-c48a-41d1-a150-69f975b53e7f"
      },
      "execution_count": 12,
      "outputs": [
        {
          "output_type": "stream",
          "name": "stdout",
          "text": [
            "Epoch= 0  ,Loss= 98099.25\n",
            "Epoch= 1000  ,Loss= 11.683474\n",
            "Epoch= 2000  ,Loss= 1.2965962\n",
            "Epoch= 3000  ,Loss= 0.57496864\n",
            "Epoch= 4000  ,Loss= 0.15986797\n",
            "Epoch= 5000  ,Loss= 0.016075978\n"
          ]
        }
      ]
    },
    {
      "cell_type": "code",
      "source": [
        "print(y_p[-1])"
      ],
      "metadata": {
        "colab": {
          "base_uri": "https://localhost:8080/"
        },
        "id": "Yn58QxNX0SJ9",
        "outputId": "dbc3fcbc-02c8-4caf-8b2b-701324694072"
      },
      "execution_count": 13,
      "outputs": [
        {
          "output_type": "stream",
          "name": "stdout",
          "text": [
            "tensor([0.98808753490447998047], grad_fn=<SelectBackward0>)\n"
          ]
        }
      ]
    },
    {
      "cell_type": "code",
      "source": [
        "def eval_residual(x):\n",
        "    y=model(x)\n",
        "    y_p = dy_dx(y, x)\n",
        "    y_pp = dy_dx(y_p, x)\n",
        "    y_ppp = dy_dx(y_pp, x)\n",
        "\n",
        "    print('y_pp(0)=',y_pp[0].item())\n",
        "    # modify the equation to match the one you sent\n",
        "    residential = y_ppp+0.5*y*y_pp\n",
        "    initial1 = y[0] - 1\n",
        "    initial2 = y_p[0] - 0\n",
        "    initial3 = y_p[-1]-.990\n",
        "    return (residential**2).mean() + initial1 + initial2+ initial3\n",
        "res=eval_residual(x)\n",
        "y_pred=model(x)\n",
        "\n",
        "print('Mean Residual=',res.item())"
      ],
      "metadata": {
        "colab": {
          "base_uri": "https://localhost:8080/"
        },
        "id": "ha1kjOBV0UfC",
        "outputId": "ee92b3f2-94ba-424f-b03b-0bd56db2b3ea"
      },
      "execution_count": 14,
      "outputs": [
        {
          "output_type": "stream",
          "name": "stdout",
          "text": [
            "y_pp(0)= 0.3349232077598572\n",
            "Mean Residual= -0.996397852897644\n"
          ]
        }
      ]
    },
    {
      "cell_type": "code",
      "source": [
        "x= torch.tensor([0.0,1.0,2.0,3.0,4.0,5.0,6.0,7.0,8.0], dtype=torch.float, requires_grad=True)\n",
        "x=x.reshape(-1,1)\n",
        "y_pred = model(x)\n",
        "MAE=torch.abs(y_train-y_pred).mean()\n",
        "print('Mean Absolute Error Between Dr Parand results and the presented model:',MAE.item())\n",
        "y_pred = y_pred.detach().numpy()\n",
        "plt.plot(x_train.detach().numpy(), y_pred)\n",
        "plt.scatter(x_train.detach().numpy(),y_train.detach().numpy(),c='red')\n",
        "plt.show()"
      ],
      "metadata": {
        "colab": {
          "base_uri": "https://localhost:8080/",
          "height": 447
        },
        "id": "FN9uhAOI1SsF",
        "outputId": "fd7a2b8b-9c0e-4a58-ccd7-19aac6aac51f"
      },
      "execution_count": 15,
      "outputs": [
        {
          "output_type": "stream",
          "name": "stdout",
          "text": [
            "Mean Absolute Error Between Dr Parand results and the presented model: 0.051539670675992966\n"
          ]
        },
        {
          "output_type": "display_data",
          "data": {
            "text/plain": [
              "<Figure size 640x480 with 1 Axes>"
            ],
            "image/png": "[encoded data removed]"
          },
          "metadata": {}
        }
      ]
    },
    {
      "cell_type": "code",
      "source": [
        "def calculate_y_and_ypp(model, x_values, x_for_ypp):\n",
        "    \"\"\"\n",
        "    Calculate y values for specific x_values and y'' at a single point x_for_ypp.\n",
        "\n",
        "    Args:\n",
        "    - model: The trained PyTorch model.\n",
        "    - x_values: A tensor of x values where y needs to be calculated.\n",
        "    - x_for_ypp: A single float value where y'' needs to be calculated.\n",
        "\n",
        "    Returns:\n",
        "    - y_values: A tensor of y values at x_values.\n",
        "    - ypp_at_point: The value of y'' at x_for_ypp.\n",
        "    \"\"\"\n",
        "    # Ensure x_values and x_for_ypp are tensors\n",
        "    x_values = x_values.reshape(-1, 1)  # Reshape for model input\n",
        "    x_for_ypp = torch.tensor([x_for_ypp], dtype=torch.float, requires_grad=True).reshape(-1, 1)\n",
        "\n",
        "    # Calculate y values for x_values\n",
        "    y_values = model(x_values).detach().numpy()  # Detach for no gradient computation\n",
        "\n",
        "    # Calculate y'' at x_for_ypp\n",
        "    y_at_point = model(x_for_ypp)\n",
        "    y_prime_at_point = torch.autograd.grad(\n",
        "        y_at_point, x_for_ypp, grad_outputs=torch.ones_like(y_at_point), create_graph=True\n",
        "    )[0]\n",
        "    y_double_prime_at_point = torch.autograd.grad(\n",
        "        y_prime_at_point, x_for_ypp, grad_outputs=torch.ones_like(y_prime_at_point), create_graph=True\n",
        "    )[0]\n",
        "\n",
        "    return y_values, y_double_prime_at_point.item()\n",
        "\n",
        "# Define x values where you want y to be calculated\n",
        "x_values = torch.tensor([0.0, 1.0, 2.0, 3.0, 4.0, 5.0, 6.0, 7.0, 8.0, 9.0], dtype=torch.float)\n",
        "\n",
        "# Define the point where you want y'' to be calculated\n",
        "x_for_ypp = 0.0\n",
        "\n",
        "# Call the function\n",
        "y_values, ypp_at_0 = calculate_y_and_ypp(model, x_values, x_for_ypp)\n",
        "\n",
        "# Print results\n",
        "print(\"y values at x =\", x_values.tolist(), \":\", y_values)\n",
        "print(\"y'' at x = 0:\", ypp_at_0)\n",
        "\n",
        "\n",
        "def calculate_y_yprime_ypp(model, x_values):\n",
        "    \"\"\"\n",
        "    Calculate y, y', and y'' for each x in x_values.\n",
        "\n",
        "    Args:\n",
        "    - model: The trained PyTorch model.\n",
        "    - x_values: A tensor of x values where y, y', y'' need to be calculated.\n",
        "\n",
        "    Returns:\n",
        "    - y_values: A list of y values at x_values.\n",
        "    - y_prime_values: A list of y' values at x_values.\n",
        "    - y_double_prime_values: A list of y'' values at x_values.\n",
        "    \"\"\"\n",
        "    y_values = []\n",
        "    y_prime_values = []\n",
        "    y_double_prime_values = []\n",
        "\n",
        "    for x in x_values:\n",
        "        # Ensure x requires gradient for derivative computation\n",
        "        x_tensor = torch.tensor([x], dtype=torch.float, requires_grad=True).reshape(-1, 1)\n",
        "\n",
        "        # Forward pass to compute y\n",
        "        y = model(x_tensor)\n",
        "        y_values.append(y.detach().item())\n",
        "\n",
        "        # Compute first derivative y'\n",
        "        y_prime = torch.autograd.grad(\n",
        "            y, x_tensor, grad_outputs=torch.ones_like(y), create_graph=True\n",
        "        )[0]\n",
        "        y_prime_values.append(y_prime.detach().item())\n",
        "\n",
        "        # Compute second derivative y''\n",
        "        y_double_prime = torch.autograd.grad(\n",
        "            y_prime, x_tensor, grad_outputs=torch.ones_like(y_prime), create_graph=True\n",
        "        )[0]\n",
        "        y_double_prime_values.append(y_double_prime.detach().item())\n",
        "\n",
        "    return y_values, y_prime_values, y_double_prime_values\n",
        "\n",
        "# Example usage:\n",
        "\n",
        "# Assume 'model' is your pre-trained PyTorch model\n",
        "# Define x values where you want y, y', and y'' to be calculated\n",
        "x_values = torch.tensor([0.0, 1.0, 2.0, 3.0, 4.0, 5.0, 6.0, 7.0, 8.0, 9.0], dtype=torch.float)\n",
        "\n",
        "# Call the function\n",
        "y_values, y_prime_values, y_double_prime_values = calculate_y_yprime_ypp(model, x_values)\n",
        "\n",
        "# Print results\n",
        "print(\"x values:\", x_values.tolist())\n",
        "print(\"y values:\", y_values)\n",
        "print(\"y' values:\", y_prime_values)\n",
        "print(\"y'' values:\", y_double_prime_values)"
      ],
      "metadata": {
        "colab": {
          "base_uri": "https://localhost:8080/"
        },
        "id": "ONU2t9iF1U3R",
        "outputId": "4bfc00fa-29be-4d89-e807-4a7b61261518"
      },
      "execution_count": 16,
      "outputs": [
        {
          "output_type": "stream",
          "name": "stdout",
          "text": [
            "y values at x = [0.0, 1.0, 2.0, 3.0, 4.0, 5.0, 6.0, 7.0, 8.0, 9.0] : [[0.02878183]\n",
            " [0.17227495]\n",
            " [0.63585794]\n",
            " [1.3631285 ]\n",
            " [2.2554803 ]\n",
            " [3.21937   ]\n",
            " [4.203487  ]\n",
            " [5.190529  ]\n",
            " [6.177701  ]\n",
            " [7.1654806 ]]\n",
            "y'' at x = 0: 0.334924578666687\n",
            "x values: [0.0, 1.0, 2.0, 3.0, 4.0, 5.0, 6.0, 7.0, 8.0, 9.0]\n",
            "y values: [0.02878183126449585, 0.17227494716644287, 0.6358575820922852, 1.363128662109375, 2.2554800510406494, 3.219369888305664, 4.203487396240234, 5.1905293464660645, 6.177700996398926, 7.16548490524292]\n",
            "y' values: [-0.023275792598724365, 0.30852454900741577, 0.6091437935829163, 0.8279247283935547, 0.9404915571212769, 0.9790024161338806, 0.986713171005249, 0.9870824813842773, 0.9873979091644287, 0.9881409406661987]\n",
            "y'' values: [0.334924578666687, 0.32484638690948486, 0.26798826456069946, 0.16437482833862305, 0.06736147403717041, 0.017345428466796875, 0.0018386691808700562, -5.686655640602112e-05, 0.0006887875497341156, 0.0005698986351490021]\n"
          ]
        }
      ]
    }
  ]
}
