{
 "cells": [
  {
   "cell_type": "code",
   "execution_count": 175,
   "id": "93495ca7-5fc9-4a96-a2a1-c935caa1ac76",
   "metadata": {},
   "outputs": [],
   "source": [
    "import torch\n",
    "import torch.nn as nn\n",
    "import numpy as np\n",
    "from torch.utils.data import TensorDataset\n",
    "from torch.utils.data import DataLoader\n",
    "import matplotlib.pyplot as plt\n",
    "import warnings\n",
    "import os\n",
    "os.environ[\"KMP_DUPLICATE_LIB_OK\"]=\"TRUE\"\n",
    "warnings.filterwarnings(\"ignore\")\n",
    "torch.set_printoptions(precision=20, threshold=None, edgeitems=None, linewidth=None, profile=None, sci_mode=None)\n",
    "layer_size = 9"
   ]
  },
  {
   "cell_type": "code",
   "execution_count": 176,
   "id": "2ed2a219-4a73-4d57-b561-42d7ea197b04",
   "metadata": {},
   "outputs": [],
   "source": [
    "x_train = torch.tensor([0.0,1.0,2.0,3.0,4.0,5.0,6.0,7.0,8.0], dtype=torch.float, requires_grad=True)\n",
    "x_train=x_train.reshape(-1,1)\n",
    "y_train_DrParand= torch.tensor([[0.000000000000,0.165571725847,0.650024370165,1.396808231342,2.305746419194,3.283273666139,4.279620923737,5.279238812489,6.279213433045]], dtype=torch.float,requires_grad=True)\n",
    "\n",
    "y_train=y_train_DrParand\n",
    "y_train=y_train.reshape(-1,1)\n",
    "train_ds = TensorDataset(x_train, y_train)\n",
    "train_dl = DataLoader(train_ds, batch_size=3, shuffle=True,drop_last=True)"
   ]
  },
  {
   "cell_type": "code",
   "execution_count": 177,
   "id": "9a9c9a20-25e8-45f8-b2ec-90cca7593d5d",
   "metadata": {},
   "outputs": [],
   "source": [
    "class CustomActivationLayer(nn.Module):\n",
    "    def __init__(self, input_size, output_size,L):\n",
    "        super(CustomActivationLayer, self).__init__()\n",
    "        self.L=L\n",
    "\n",
    "        # Ensure the output size matches the number of custom functions\n",
    "        assert output_size == 9, \"This example requires exactly 3 output nodes.\"\n",
    "\n",
    "    def forward(self, x):\n",
    "        # Get the linear output\n",
    "        linear_out = x\n",
    "        L=self.L\n",
    "        activated_out = torch.stack([\n",
    "            linear_out[:,0]*0+1.0,\n",
    "            (linear_out[:,1]-L)/(linear_out[:,1]+L),\n",
    "            1.5*((linear_out[:,2]-L)/(linear_out[:,2]+L))**2-1.5,\n",
    "            2.5*((linear_out[:,3]-L)/(linear_out[:,3]+L))**3-1.5*((linear_out[:,3]-L)/(linear_out[:,3]+L)),\n",
    "            4.375*((linear_out[:,4]-L)/(linear_out[:,4]+L))**4-3.75*((linear_out[:,4]-L)/(linear_out[:,4]+L))**2+0.375,\n",
    "            7.875*((linear_out[:,5]-L)/(linear_out[:,5]+L))**5-8.75*((linear_out[:,5]-L)/(linear_out[:,5]+L))**3+1.875**((linear_out[:,5]-L)/(linear_out[:,5]+L)),\n",
    "            14.4375*((linear_out[:,6]-L)/(linear_out[:,6]+L))**6-19.6875*((linear_out[:,6]-L)/(linear_out[:,6]+L))**4 +6.5625*((linear_out[:,6]-L)/(linear_out[:,6]+L))**2 - 0.3125,\n",
    "            26.8125*((linear_out[:,7]-L)/(linear_out[:,7]+L))**7-43.3125*((linear_out[:,7]-L)/(linear_out[:,7]+L))**5 +19.6875*((linear_out[:,7]-L)/(linear_out[:,7]+L))**3 -2.1875*((linear_out[:,7]-L)/(linear_out[:,7]+L)),\n",
    "            50.2734375*((linear_out[:,8]-L)/(linear_out[:,8]+L))**8-93.84375*((linear_out[:,8]-L)/(linear_out[:,8]+L))**6+54.140625*((linear_out[:,8]-L)/(linear_out[:,8]+L))**4-9.84375*((linear_out[:,8]-L)/(linear_out[:,8]+L))**2 +0.2734375,\n",
    "            #94.9609375*((linear_out[:,9]-L)/(linear_out[:,9]+L))**9-201.09375*((linear_out[:,9]-L)/(linear_out[:,9]+L))**7+140.765625*((linear_out[:,9]-L)/(linear_out[:,9]+L))**5-36.09375*((linear_out[:,9]-L)/(linear_out[:,9]+L))**3+2.4609375*((linear_out[:,9]-L)/(linear_out[:,9]+L)),\n",
    "            #180.42578125*((linear_out[:,10]-L)/(linear_out[:,10]+L))**10-427.32421875*((linear_out[:,10]-L)/(linear_out[:,10]+L))**8+351.9140625*((linear_out[:,10]-L)/(linear_out[:,10]+L))**6-117.3046875*((linear_out[:,10]-L)/(linear_out[:,10]+L))**4+13.53515625*((linear_out[:,10]-L)/(linear_out[:,10]+L))**2-0.2460937500000\n",
    "        ], dim=1)\n",
    "        return activated_out\n"
   ]
  },
  {
   "cell_type": "code",
   "execution_count": 178,
   "id": "78e95c77-c3ca-4b8c-89a4-991d90bd1492",
   "metadata": {},
   "outputs": [],
   "source": [
    "class MyModule(nn.Module):\n",
    "    def __init__(self):\n",
    "        super().__init__()\n",
    "        self.l1 = nn.Linear(1, layer_size, bias=False)\n",
    "        self.a1 = nn.Tanh()\n",
    "        self.l2 = nn.Linear(layer_size, layer_size, bias=False)\n",
    "        self.a2 = nn.Tanh()\n",
    "        self.a3 = CustomActivationLayer(layer_size, layer_size, 4.0)\n",
    "        self.l3 = nn.Linear(layer_size, 1, bias=False)\n",
    "\n",
    "    def forward(self, x):\n",
    "        x=self.l1(x)\n",
    "        x=self.a1(x)\n",
    "        x=self.l2(x)\n",
    "        x=self.a2(x)\n",
    "        x=self.a3(x)\n",
    "        x=self.l3(x)\n",
    "        return x+1.0\n",
    "model=MyModule()\n",
    "\n"
   ]
  },
  {
   "source": [
    "num_epochs=20000\n",
    "loss_fn = nn.MSELoss(reduction='mean')\n",
    "optimizer = torch.optim.SGD(model.parameters(), lr=0.001)\n",
    "\n",
    "for epoch in range(num_epochs):\n",
    "    mysum=0.0\n",
    "    for x_batch, y_batch in train_dl:\n",
    "        pred = model(x_batch)\n",
    "        loss = loss_fn(pred, y_batch)\n",
    "        loss.backward()\n",
    "        nn.utils.clip_grad_value_(model.parameters(), clip_value=1.0)\n",
    "        optimizer.step()\n",
    "        optimizer.zero_grad()\n",
    "        mysum=mysum+loss.item()\n",
    "    if epoch % 1000 ==0:\n",
    "        print(f'Epoch {epoch}  Loss {mysum/y_train.shape[0]:.20f}')\n",
    "    if mysum/y_train.shape[0]< 0.0005:\n",
    "        break\n"
   ]
  },
  {
   "cell_type": "code",
   "execution_count": 180,
   "id": "56a93c7f-8344-431d-add0-bac567e7d886",
   "metadata": {},
   "outputs": [
    {
     "name": "stdout",
     "output_type": "stream",
     "text": [
      "Mean Absolute Error 0.17957928776741028\n"
     ]
    },
    {
     "data": {
      "image/png": "[encoded data removed]",
      "text/plain": [
       "<Figure size 640x480 with 1 Axes>"
      ]
     },
     "metadata": {},
     "output_type": "display_data"
    }
   ],
   "source": [
    "y_pred = model(x_train)\n",
    "MAE=torch.abs(y_train-y_pred).mean()\n",
    "print('Mean Absolute Error',MAE.item())\n",
    "y_pred = y_pred.detach().numpy()\n",
    "plt.plot(x_train.detach().numpy(), y_pred)\n",
    "plt.scatter(x_train.detach().numpy(),y_train.detach().numpy(),c='red')\n",
    "plt.show()\n"
   ]
  },
  {
   "cell_type": "code",
   "execution_count": 181,
   "id": "eb10492c-6b46-48f8-9c9f-15f14c65764a",
   "metadata": {},
   "outputs": [],
   "source": [
    "x=torch.linspace(0,10,100,requires_grad=True)\n",
    "x=x.reshape(-1,1)"
   ]
  },
  {
   "cell_type": "code",
   "execution_count": 182,
   "id": "16d3e063-925b-4150-983e-37dcc2694300",
   "metadata": {},
   "outputs": [],
   "source": [
    "model=MyModule()\n"
   ]
  },
  {
   "cell_type": "code",
   "execution_count": 183,
   "id": "e954e842-dade-4faa-8714-b36a815d7ddc",
   "metadata": {},
   "outputs": [],
   "source": [
    "def dy_dx(y, x):\n",
    "    return torch.autograd.grad(\n",
    "        y, x, grad_outputs=torch.ones_like(y), create_graph=True,allow_unused=True\n",
    "    )[0]\n"
   ]
  },
  {
   "cell_type": "code",
   "execution_count": 184,
   "id": "bd895006-961b-4d9c-8f8f-c6b2390b1d1f",
   "metadata": {},
   "outputs": [],
   "source": [
    "optimizer = torch.optim.Adam(model.parameters(), lr=.01)\n",
    "# optimizer = torch.optim.SGD(model.parameters(), lr=.01)"
   ]
  },
  {
   "cell_type": "code",
   "execution_count": 190,
   "id": "341ea2f8-737a-4b02-9679-7fe36c627fb9",
   "metadata": {},
   "outputs": [
    {
     "name": "stdout",
     "output_type": "stream",
     "text": [
      "Epoch= 0  ,Loss= 0.0023487033\n"
     ]
    }
   ],
   "source": [
    "losses=[]\n",
    "n_epochs=20000\n",
    "\n",
    "for i in range(n_epochs):\n",
    "    y=model(x)\n",
    "    y_p = dy_dx(y, x)\n",
    "    y_pp = dy_dx(y_p, x)\n",
    "    y_ppp = dy_dx(y_pp, x)\n",
    "\n",
    "    residential = y_ppp+0.5*y*y_pp\n",
    "    initial1 = y[0] - 0\n",
    "    initial2 = y_p[0] - 0\n",
    "    initial3 = y_p[-1]-.99\n",
    "\n",
    "    loss = 10*initial3**2+1000*(residential**2).mean() + initial1**2 + initial2**2\n",
    "    if loss.item() < 0.00099:\n",
    "        break\n",
    "\n",
    "    optimizer.zero_grad()\n",
    "    loss.backward()\n",
    "    optimizer.step()\n",
    "\n",
    "    losses.append(loss.detach().numpy())\n",
    "\n",
    "    if i % 1000 == 0:\n",
    "        print('Epoch=',i,' ,Loss=',loss.detach().numpy()[0])\n",
    "\n"
   ]
  },
  {
   "cell_type": "code",
   "execution_count": 191,
   "id": "2203e4f1-233c-477c-8630-35cf22717f28",
   "metadata": {},
   "outputs": [
    {
     "name": "stdout",
     "output_type": "stream",
     "text": [
      "tensor([0.99044489860534667969], grad_fn=<SelectBackward0>)\n"
     ]
    }
   ],
   "source": [
    "print(y_p[-1])\n"
   ]
  },
  {
   "cell_type": "code",
   "execution_count": 192,
   "id": "f4c6c951-14e7-4550-9184-4a73462da60a",
   "metadata": {},
   "outputs": [
    {
     "name": "stdout",
     "output_type": "stream",
     "text": [
      "y_pp(0)= 0.3317602872848511\n",
      "Mean Residual= -0.9920282363891602\n"
     ]
    }
   ],
   "source": [
    "def eval_residual(x):\n",
    "    y=model(x)\n",
    "    y_p = dy_dx(y, x)\n",
    "    y_pp = dy_dx(y_p, x)\n",
    "    y_ppp = dy_dx(y_pp, x)\n",
    "\n",
    "    print('y_pp(0)=',y_pp[0].item())\n",
    "    # modify the equation to match the one you sent\n",
    "    residential = y_ppp+0.5*y*y_pp\n",
    "    initial1 = y[0] - 1\n",
    "    initial2 = y_p[0] - 0\n",
    "    initial3 = y_p[-1]-.990\n",
    "    return (residential**2).mean() + initial1 + initial2+ initial3\n",
    "res=eval_residual(x)\n",
    "y_pred=model(x)\n",
    "\n",
    "print('Mean Residual=',res.item())\n"
   ]
  },
  {
   "cell_type": "code",
   "execution_count": 193,
   "id": "04d95532-128a-4905-8854-ee06f0a71878",
   "metadata": {},
   "outputs": [
    {
     "name": "stdout",
     "output_type": "stream",
     "text": [
      "Mean Absolute Error Between Dr Parand results and the presented model: 0.015845321118831635\n"
     ]
    },
    {
     "data": {
      "image/png": "[encoded data removed]",
      "text/plain": [
       "<Figure size 640x480 with 1 Axes>"
      ]
     },
     "metadata": {},
     "output_type": "display_data"
    }
   ],
   "source": [
    "x= torch.tensor([0.0,1.0,2.0,3.0,4.0,5.0,6.0,7.0,8.0], dtype=torch.float, requires_grad=True)\n",
    "x=x.reshape(-1,1)\n",
    "y_pred = model(x)\n",
    "MAE=torch.abs(y_train-y_pred).mean()\n",
    "print('Mean Absolute Error Between Dr Parand results and the presented model:',MAE.item())\n",
    "y_pred = y_pred.detach().numpy()\n",
    "plt.plot(x_train.detach().numpy(), y_pred)\n",
    "plt.scatter(x_train.detach().numpy(),y_train.detach().numpy(),c='red')\n",
    "plt.show()\n"
   ]
  },
  {
   "cell_type": "code",
   "execution_count": 194,
   "id": "ec69d423-1298-478c-a5f3-3aa01d6f0168",
   "metadata": {},
   "outputs": [
    {
     "name": "stdout",
     "output_type": "stream",
     "text": [
      "y values at x = [0.0, 1.0, 2.0, 3.0, 4.0, 5.0, 6.0, 7.0, 8.0, 9.0] : [[1.6732216e-03]\n",
      " [1.7191571e-01]\n",
      " [6.5599048e-01]\n",
      " [1.3981435e+00]\n",
      " [2.2989092e+00]\n",
      " [3.2671754e+00]\n",
      " [4.2543893e+00]\n",
      " [5.2444992e+00]\n",
      " [6.2348309e+00]\n",
      " [7.2251997e+00]]\n",
      "y'' at x = 0: 0.33176034688949585\n",
      "x values: [0.0, 1.0, 2.0, 3.0, 4.0, 5.0, 6.0, 7.0, 8.0, 9.0]\n",
      "y values: [0.0016732215881347656, 0.17191576957702637, 0.6559908390045166, 1.3981435298919678, 2.2989089488983154, 3.2671756744384766, 4.254384994506836, 5.244499206542969, 6.2348313331604, 7.2251996994018555]\n",
      "y' values: [0.00585271418094635, 0.3321404457092285, 0.6270735263824463, 0.8394298553466797, 0.946324348449707, 0.9824029803276062, 0.9896964430809021, 0.9902478456497192, 0.9904447197914124, 0.9900507926940918]\n",
      "y'' values: [0.33176034688949585, 0.3169591426849365, 0.2628591060638428, 0.1574517786502838, 0.06335017830133438, 0.0162107665091753, 0.0019010539399459958, 0.0001020230702124536, 0.000174159329617396, -0.0012916442938148975]\n"
     ]
    }
   ],
   "source": [
    "def calculate_y_and_ypp(model, x_values, x_for_ypp):\n",
    "    \"\"\"\n",
    "    Calculate y values for specific x_values and y'' at a single point x_for_ypp.\n",
    "\n",
    "    Args:\n",
    "    - model: The trained PyTorch model.\n",
    "    - x_values: A tensor of x values where y needs to be calculated.\n",
    "    - x_for_ypp: A single float value where y'' needs to be calculated.\n",
    "\n",
    "    Returns:\n",
    "    - y_values: A tensor of y values at x_values.\n",
    "    - ypp_at_point: The value of y'' at x_for_ypp.\n",
    "    \"\"\"\n",
    "    # Ensure x_values and x_for_ypp are tensors\n",
    "    x_values = x_values.reshape(-1, 1)  # Reshape for model input\n",
    "    x_for_ypp = torch.tensor([x_for_ypp], dtype=torch.float, requires_grad=True).reshape(-1, 1)\n",
    "\n",
    "    # Calculate y values for x_values\n",
    "    y_values = model(x_values).detach().numpy()  # Detach for no gradient computation\n",
    "\n",
    "    # Calculate y'' at x_for_ypp\n",
    "    y_at_point = model(x_for_ypp)\n",
    "    y_prime_at_point = torch.autograd.grad(\n",
    "        y_at_point, x_for_ypp, grad_outputs=torch.ones_like(y_at_point), create_graph=True\n",
    "    )[0]\n",
    "    y_double_prime_at_point = torch.autograd.grad(\n",
    "        y_prime_at_point, x_for_ypp, grad_outputs=torch.ones_like(y_prime_at_point), create_graph=True\n",
    "    )[0]\n",
    "\n",
    "    return y_values, y_double_prime_at_point.item()\n",
    "\n",
    "# Define x values where you want y to be calculated\n",
    "x_values = torch.tensor([0.0, 1.0, 2.0, 3.0, 4.0, 5.0, 6.0, 7.0, 8.0, 9.0], dtype=torch.float)\n",
    "\n",
    "# Define the point where you want y'' to be calculated\n",
    "x_for_ypp = 0.0\n",
    "\n",
    "# Call the function\n",
    "y_values, ypp_at_0 = calculate_y_and_ypp(model, x_values, x_for_ypp)\n",
    "\n",
    "# Print results\n",
    "print(\"y values at x =\", x_values.tolist(), \":\", y_values)\n",
    "print(\"y'' at x = 0:\", ypp_at_0)\n",
    "\n",
    "\n",
    "def calculate_y_yprime_ypp(model, x_values):\n",
    "    \"\"\"\n",
    "    Calculate y, y', and y'' for each x in x_values.\n",
    "\n",
    "    Args:\n",
    "    - model: The trained PyTorch model.\n",
    "    - x_values: A tensor of x values where y, y', y'' need to be calculated.\n",
    "\n",
    "    Returns:\n",
    "    - y_values: A list of y values at x_values.\n",
    "    - y_prime_values: A list of y' values at x_values.\n",
    "    - y_double_prime_values: A list of y'' values at x_values.\n",
    "    \"\"\"\n",
    "    y_values = []\n",
    "    y_prime_values = []\n",
    "    y_double_prime_values = []\n",
    "    \n",
    "    for x in x_values:\n",
    "        # Ensure x requires gradient for derivative computation\n",
    "        x_tensor = torch.tensor([x], dtype=torch.float, requires_grad=True).reshape(-1, 1)\n",
    "        \n",
    "        # Forward pass to compute y\n",
    "        y = model(x_tensor)\n",
    "        y_values.append(y.detach().item())\n",
    "        \n",
    "        # Compute first derivative y'\n",
    "        y_prime = torch.autograd.grad(\n",
    "            y, x_tensor, grad_outputs=torch.ones_like(y), create_graph=True\n",
    "        )[0]\n",
    "        y_prime_values.append(y_prime.detach().item())\n",
    "        \n",
    "        # Compute second derivative y''\n",
    "        y_double_prime = torch.autograd.grad(\n",
    "            y_prime, x_tensor, grad_outputs=torch.ones_like(y_prime), create_graph=True\n",
    "        )[0]\n",
    "        y_double_prime_values.append(y_double_prime.detach().item())\n",
    "    \n",
    "    return y_values, y_prime_values, y_double_prime_values\n",
    "\n",
    "# Example usage:\n",
    "\n",
    "# Assume 'model' is your pre-trained PyTorch model\n",
    "# Define x values where you want y, y', and y'' to be calculated\n",
    "x_values = torch.tensor([0.0, 1.0, 2.0, 3.0, 4.0, 5.0, 6.0, 7.0, 8.0, 9.0], dtype=torch.float)\n",
    "\n",
    "# Call the function\n",
    "y_values, y_prime_values, y_double_prime_values = calculate_y_yprime_ypp(model, x_values)\n",
    "\n",
    "# Print results\n",
    "print(\"x values:\", x_values.tolist())\n",
    "print(\"y values:\", y_values)\n",
    "print(\"y' values:\", y_prime_values)\n",
    "print(\"y'' values:\", y_double_prime_values)\n"
   ]
  },
  {
   "cell_type": "code",
   "execution_count": null,
   "id": "524a6f17-97f1-47ee-83b4-861936ed570f",
   "metadata": {},
   "outputs": [],
   "source": []
  }
 ],
 "metadata": {
  "kernelspec": {
   "display_name": "Python 3 (ipykernel)",
   "language": "python",
   "name": "python3"
  },
  "language_info": {
   "codemirror_mode": {
    "name": "ipython",
    "version": 3
   },
   "file_extension": ".py",
   "mimetype": "text/x-python",
   "name": "python",
   "nbconvert_exporter": "python",
   "pygments_lexer": "ipython3",
   "version": "3.12.3"
  }
 },
 "nbformat": 4,
 "nbformat_minor": 5
}
